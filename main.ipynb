{
 "cells": [
  {
   "cell_type": "markdown",
   "metadata": {},
   "source": [
    "# jupyter is so silly"
   ]
  },
  {
   "cell_type": "code",
   "execution_count": 146,
   "metadata": {},
   "outputs": [
    {
     "data": {
      "text/plain": [
       "True"
      ]
     },
     "execution_count": 146,
     "metadata": {},
     "output_type": "execute_result"
    }
   ],
   "source": [
    "# imports\n",
    "import nltk\n",
    "import glob\n",
    "import os\n",
    "from nltk.corpus import EuroparlCorpusReader\n",
    "from nltk.text import Text\n",
    "\n",
    "# nltk libraries\n",
    "nltk.download('punkt_tab', quiet=True)"
   ]
  },
  {
   "cell_type": "code",
   "execution_count": 4,
   "metadata": {},
   "outputs": [
    {
     "name": "stdout",
     "output_type": "stream",
     "text": [
      "files in shortened corpus: 48\n"
     ]
    }
   ],
   "source": [
    "europarl_short_files = list(map(lambda p: os.path.basename(p), glob.glob('./europarl/en/ep-00-0*-*.txt')))\n",
    "print(f\"files in shortened corpus: {len(europarl_short_files)}\")"
   ]
  },
  {
   "cell_type": "code",
   "execution_count": 145,
   "metadata": {},
   "outputs": [
    {
     "name": "stdout",
     "output_type": "stream",
     "text": [
      "length of whole corpus: 11235644, length of shortened corpus: 2675475\n"
     ]
    }
   ],
   "source": [
    "europarl_read = EuroparlCorpusReader('./europarl/en', '.*')\n",
    "europarl = Text(europarl_read.words())\n",
    "europarl_short = Text(europarl_read.words(europarl_short_files))\n",
    "print(f\"length of whole corpus: {len(europarl)}, length of shortened corpus: {len(europarl_short)}\")"
   ]
  },
  {
   "cell_type": "markdown",
   "metadata": {},
   "source": [
    "# now for the actual stuff"
   ]
  },
  {
   "cell_type": "code",
   "execution_count": 68,
   "metadata": {},
   "outputs": [],
   "source": [
    "from nltk.collocations import TrigramCollocationFinder as NgramCollocationFinder, TrigramAssocMeasures as NgramAssocMeasures\n",
    "\n",
    "word_a = 'substantial'\n",
    "word_b = 'significant'\n",
    "test_europarl = europarl"
   ]
  },
  {
   "cell_type": "code",
   "execution_count": 89,
   "metadata": {},
   "outputs": [
    {
     "name": "stdout",
     "output_type": "stream",
     "text": [
      "total test corpus size: 11235644\n",
      "uses of 'substantial': 888, 0.0079%\n",
      "uses of 'significant': 1645, 0.015%\n",
      "'substantial' to 'significant' ratio: 0.54\n"
     ]
    }
   ],
   "source": [
    "europarl_word_count = len(test_europarl)\n",
    "\n",
    "word_a_abs_freq = test_europarl.count(word_a)\n",
    "word_b_abs_freq = test_europarl.count(word_b)\n",
    "word_a_freq = word_a_abs_freq / europarl_word_count\n",
    "word_b_freq = word_b_abs_freq / europarl_word_count\n",
    "\n",
    "print(f\"total test corpus size: {europarl_word_count}\")\n",
    "print(f\"uses of '{word_a}': {word_a_abs_freq}, {word_a_freq*100:.2}%\")\n",
    "print(f\"uses of '{word_b}': {word_b_abs_freq}, {word_b_freq*100:.2}%\")\n",
    "\n",
    "word_a_to_word_b_ratio = word_a_abs_freq / word_b_abs_freq\n",
    "print(f\"'{word_a}' to '{word_b}' ratio: {word_a_to_word_b_ratio:.2}\")"
   ]
  },
  {
   "cell_type": "code",
   "execution_count": 139,
   "metadata": {},
   "outputs": [],
   "source": [
    "# helpers\n",
    "from tabulate import tabulate\n",
    "\n",
    "def print_table(list):\n",
    "    print(tabulate(list))"
   ]
  },
  {
   "cell_type": "code",
   "execution_count": 70,
   "metadata": {},
   "outputs": [],
   "source": [
    "# https://stackoverflow.com/questions/49197667/nltk-how-to-get-bigrams-containing-a-specific-word\n",
    "word_a_finder = NgramCollocationFinder.from_documents([test_europarl])\n",
    "word_a_finder.apply_ngram_filter(lambda *ngram: word_a not in ngram)\n",
    "\n",
    "word_b_finder = NgramCollocationFinder.from_documents([test_europarl])\n",
    "word_b_finder.apply_ngram_filter(lambda *ngram: word_b not in ngram)"
   ]
  },
  {
   "cell_type": "code",
   "execution_count": 71,
   "metadata": {},
   "outputs": [
    {
     "name": "stdout",
     "output_type": "stream",
     "text": [
      "the significant new european great specific a this major good real\n",
      "more considerable and serious in political clear of that\n",
      "the and important a major new real serious great good in political\n",
      "positive european this clear specific that fundamental considerable\n"
     ]
    }
   ],
   "source": [
    "test_europarl.similar(word_a)\n",
    "test_europarl.similar(word_b)"
   ]
  },
  {
   "cell_type": "code",
   "execution_count": 143,
   "metadata": {},
   "outputs": [
    {
     "name": "stdout",
     "output_type": "stream",
     "text": [
      "as scored via raw frequency\n",
      "-------------------------------------  -----------\n",
      "('substantial', 'contribution', 'to')  2.84808e-06\n",
      "('a', 'substantial', 'contribution')   2.49207e-06\n",
      "('substantial', 'increase', 'in')      2.31406e-06\n",
      "('make', 'a', 'substantial')           1.86905e-06\n",
      "('a', 'substantial', 'increase')       1.78005e-06\n",
      "('a', 'very', 'substantial')           1.78005e-06\n",
      "('substantial', 'number', 'of')        1.78005e-06\n",
      "('a', 'substantial', 'part')           1.69105e-06\n",
      "('is', 'a', 'substantial')             1.69105e-06\n",
      "('substantial', 'part', 'of')          1.69105e-06\n",
      "('a', 'substantial', 'number')         1.51304e-06\n",
      "('and', 'a', 'substantial')            1.33504e-06\n",
      "('to', 'a', 'substantial')             1.15703e-06\n",
      "('by', 'a', 'substantial')             1.06803e-06\n",
      "('substantial', 'progress', 'in')      1.06803e-06\n",
      "-------------------------------------  -----------\n",
      "-------------------------------------  -----------\n",
      "('is', 'a', 'significant')             5.96317e-06\n",
      "('the', 'most', 'significant')         4.00511e-06\n",
      "('a', 'significant', 'step')           3.91611e-06\n",
      "('a', 'very', 'significant')           3.91611e-06\n",
      "('significant', 'contribution', 'to')  3.02608e-06\n",
      "('a', 'significant', 'contribution')   2.93708e-06\n",
      "('significant', 'increase', 'in')      2.67007e-06\n",
      "('make', 'a', 'significant')           2.58107e-06\n",
      "('significant', 'number', 'of')        2.49207e-06\n",
      "('be', 'a', 'significant')             2.31406e-06\n",
      "('a', 'significant', 'part')           2.22506e-06\n",
      "('a', 'significant', 'increase')       2.13606e-06\n",
      "('a', 'significant', 'number')         2.13606e-06\n",
      "('significant', 'impact', 'on')        1.86905e-06\n",
      "('significant', 'role', 'in')          1.86905e-06\n",
      "-------------------------------------  -----------\n",
      "as scored via PMI\n",
      "----------------------------------------------  -------\n",
      "('substantial', 'ring-fenced', 'rebates')       35.4638\n",
      "('inflicting', 'substantial', 'unintended')     30.0043\n",
      "('substantial', 'amount.', 'Repayment')         29.7914\n",
      "('exact', 'substantial', 'retribution.')        28.4563\n",
      "('substantial', 'majority:', '39')              28.0715\n",
      "('genuine,', 'substantial', 'fairness.')        27.956\n",
      "('substantial', 'Somali', 'residents.')         27.8813\n",
      "('substantial', 'unintended', 'mortality')      27.8788\n",
      "('worthwhile,', 'substantial', 'holistic')      27.8466\n",
      "('conquered', 'substantial', 'colonial')        27.808\n",
      "('substantial', 'colonial', 'empires')          27.5449\n",
      "('substantial', 'soil', 'decontamination')      27.5174\n",
      "('well-known', 'consequences:', 'substantial')  27.4526\n",
      "('substantial', 'investment?', 'Would')         27.3242\n",
      "('Solbes', 'Mira,', 'substantial')              27.2318\n",
      "----------------------------------------------  -------\n",
      "----------------------------------------------  -------\n",
      "('significant', 'gateway.', '\"Due')             35.1593\n",
      "('Hake', 'fishery:', 'significant')             33.5743\n",
      "('significant', 'opponent,', 'Watara,')         32.8374\n",
      "('significant', 'investment?', 'Reforms')       30.9894\n",
      "('significant', 'reforms:', 'merging')          29.8739\n",
      "('significant', '6.3', '%')                     28.8739\n",
      "('significant', 'wake-up', 'call.')             28.182\n",
      "('Judicial', 'Network,', 'significant')         27.5154\n",
      "('significant', 'quantitative', 'leap.')        26.6674\n",
      "('possesses', 'significant', 'expertise.')      26.6574\n",
      "('significant', 'phrase:', '\"the')              26.5427\n",
      "('caused', 'significant', 'silting')            26.1523\n",
      "('significant', 'non-legislative', 'outcomes')  26.0919\n",
      "('novel,', 'highly', 'significant')             25.9621\n",
      "('significant', 'job', 'losses:')               25.9185\n",
      "----------------------------------------------  -------\n"
     ]
    }
   ],
   "source": [
    "def score_by(func_name: str, func):\n",
    "    print(f'as scored via {func_name}')\n",
    "    best_a = word_a_finder.score_ngrams(func)\n",
    "    best_b = word_b_finder.score_ngrams(func)\n",
    "    print_table(best_a[:15])\n",
    "    print_table(best_b[:15])\n",
    "\n",
    "score_by('raw frequency', NgramAssocMeasures.raw_freq)\n",
    "score_by('PMI', NgramAssocMeasures.pmi)"
   ]
  },
  {
   "cell_type": "code",
   "execution_count": 140,
   "metadata": {},
   "outputs": [
    {
     "name": "stdout",
     "output_type": "stream",
     "text": [
      "showing 10/19 results for 'substantial'\n",
      "ences of globalisation, but it is a substantial and necessary response. <P> In\n",
      "nd the rest from the EIB. That is a substantial investment in the future prosp\n",
      ". <P> On the other hand, there is a substantial risk of too many plans and pro\n",
      "le European Food Safety Agency is a substantial step which satisfies the need \n",
      "made to me as to whether there is a substantial legal basis or not. \"In princi\n",
      "clearly demonstrate that there is a substantial link between vehicles that hav\n",
      "rs are not, and of those there is a substantial number which is carried over, \n",
      "liation that we have before us is a substantial improvement upon the rules for\n",
      "pon which we are about to vote is a substantial step forward in the Union's in\n",
      " benefited citizens. But there is a substantial danger here. We face a situati\n",
      "---\n",
      "showing 10/67 results for 'significant'\n",
      " number of jobs and when there is a significant reduction in the unemployment \n",
      " NAME=\"Okking\"> . (DA) Tourism is a significant source of international unders\n",
      "ground. <P> In addition, there is a significant connection between the economi\n",
      "he plenary part-sessions there is a significant rise in prostitution in the ar\n",
      "uncil and Parliament, but this is a significant gesture which, as my friend an\n",
      " respect of fundamental rights is a significant question. It is important, fin\n",
      "t with on first reading. There is a significant risk that if the matter is pro\n",
      "not to be taken lightly. There is a significant minority in the European Parli\n",
      "e seeing for Save, where there is a significant reduction in the budget for en\n",
      "is no near equivalent and that is a significant element in this document. <P> \n",
      "---\n",
      "ratio: 0.28; compare to 0.54\n",
      "\n",
      "=====\n",
      "\n",
      "showing 2/2 results for 'substantial'\n",
      "d stability in Ukraine have a substantial impact on welfare and stability in t\n",
      "<P> This proposal will have a substantial impact on the European Union's biote\n",
      "---\n",
      "showing 10/22 results for 'significant'\n",
      " the capital market and has a significant impact on the growth of venture capi\n",
      "oncrete without this having a significant impact on employment. Is there reall\n",
      "o a project with an unusually significant impact on the environment, for the A\n",
      "ntation would or could have a significant impact on the environment. All Membe\n",
      "lude those plans which have a significant impact on the environment. <P> This \n",
      "hich will not probably have a significant impact on the environment. For examp\n",
      " that this would not have any significant impact on the budget. Our group hope\n",
      " such action would not have a significant impact on the environment. The Commi\n",
      "egal experts. It would have a significant impact on trade and would run a seri\n",
      "the accounts which may have a significant impact on the financial position. Ho\n",
      "---\n",
      "ratio: 0.091; compare to 0.54\n",
      "\n",
      "=====\n",
      "\n",
      "showing 2/2 results for 'substantial'\n",
      "e call for a more active, more substantial role to be played by the European g\n",
      "European participation plays a substantial role in supporting developing count\n",
      "---\n",
      "showing 10/27 results for 'significant'\n",
      "nce. UNMIK has already taken a significant role in this field. <P> Secondly, u\n",
      "ppear that favouritism plays a significant role in the granting of appointment\n",
      "villages which can play a very significant role in this. It would be a mistake\n",
      "s decided at Essen play a very significant role in the extension of the Europe\n",
      "hich, to this day, play such a significant role in European aviation. I would \n",
      "otion sector is important; the significant role of distribution is important f\n",
      "modest financially, can play a significant role in strengthening the mechanism\n",
      "vention in particular played a significant role in securing his release. I wou\n",
      "his potential. It could play a significant role in preventing and managing con\n",
      "l be represented - will have a significant role in ensuring all of this. Final\n",
      "---\n",
      "ratio: 0.074; compare to 0.54\n",
      "\n",
      "=====\n",
      "\n",
      "showing 10/35 results for 'substantial'\n",
      "ime. This procedure made a substantial contribution to the development of a Eu\n",
      "reneurs are able to make a substantial contribution to social growth solidarit\n",
      "his way, Europe can make a substantial contribution to progress, progress of c\n",
      "European Union is making a substantial contribution to the reconstruction of t\n",
      "it should, instead, make a substantial contribution to the economic developmen\n",
      " this, it will have made a substantial contribution to securing peace in the M\n",
      "hose policies that makes a substantial contribution to the realisation of the \n",
      "Europe can and must make a substantial contribution to the development process\n",
      "ensure that Europe makes a substantial contribution to the establishment of a \n",
      "e European Union to make a substantial contribution to the production of the f\n",
      "---\n",
      "showing 10/45 results for 'significant'\n",
      "e, and continue to make, a significant contribution to the convergence process\n",
      " chance that it can make a significant contribution in Lisbon. I believe that \n",
      "view or do you feel a more significant contribution is needed from the Member \n",
      "as the potential to make a significant contribution to food production and pub\n",
      " only would we be making a significant contribution to the EU' s future but we\n",
      " are making a positive and significant contribution to greater economic growth\n",
      "93, this agency has made a significant contribution to increasing our understa\n",
      "pean Union has made a very significant contribution in recent years to solving\n",
      "ember's report will make a significant contribution to that . <SPEAKER ID=124 \n",
      "for ships to have to pay a significant contribution towards the costs of the f\n",
      "---\n",
      "ratio: 0.78; compare to 0.54\n",
      "\n",
      "=====\n",
      "\n",
      "showing 10/26 results for 'substantial'\n",
      " same time, there has been a substantial increase in the pronounced imbalances\n",
      "In addition, considering the substantial increase in the number and size of op\n",
      "e countries. This requires a substantial increase in our staff, a measure whic\n",
      "ust be ambitious and adopt a substantial increase in exchanges within the Euro\n",
      "hat there will be an average substantial increase in this expenditure between \n",
      "ee on Budgets has proposed a substantial increase in the credits made availabl\n",
      "tion, instead of proposing a substantial increase in quotas, the Commission is\n",
      "kets are already producing a substantial increase in the demand for the transp\n",
      "idency, therefore, propose a substantial increase in resources to verify compl\n",
      "nt, however, would lead to a substantial increase in the size of the budget fo\n",
      "---\n",
      "showing 10/33 results for 'significant'\n",
      ", specifically by means of a significant increase in pensions and pension sche\n",
      "d the entire EU to achieve a significant increase in the share of renewable en\n",
      " President, there has been a significant increase in biotechnology application\n",
      "isintegration, caused by the significant increase in the number of Member Stat\n",
      "ocessing, which represents a significant increase in relation to the 1993-1997\n",
      "rk which he is doing, on the significant increase in his actions and his work,\n",
      "gard to cinema, we can see a significant increase in the number of European su\n",
      "etary authority, including a significant increase in posts for the health and \n",
      "l double and there will be a significant increase in steel production, and we \n",
      " pointless to vote through a significant increase in payment appropriations. T\n",
      "---\n",
      "ratio: 0.79; compare to 0.54\n"
     ]
    }
   ],
   "source": [
    "\n",
    "def compare_uses(query: str, count=10):\n",
    "    a = test_europarl.concordance_list(query.replace('$', word_a).split(' '), lines=word_a_abs_freq)\n",
    "    b = test_europarl.concordance_list(query.replace('$', word_b).split(' '), lines=word_b_abs_freq)\n",
    "    print(f\"showing {min(len(a),count)}/{len(a)} results for '{word_a}'\")\n",
    "    for con in a[:count]:\n",
    "        print(con.line)\n",
    "    print('---')\n",
    "    print(f\"showing {min(len(b),count)}/{len(b)} results for '{word_b}'\")\n",
    "    for con in b[:count]:\n",
    "        print(con.line)\n",
    "    print('---')\n",
    "    print(f\"ratio: {len(a)/len(b):.2}; compare to {word_a_to_word_b_ratio:.2}\")\n",
    "\n",
    "compare_uses('is a $')\n",
    "print('\\n=====\\n')\n",
    "compare_uses('$ impact')\n",
    "print('\\n=====\\n')\n",
    "compare_uses('$ role')\n",
    "print('\\n=====\\n')\n",
    "compare_uses('$ contribution')\n",
    "print('\\n=====\\n')\n",
    "compare_uses('$ increase')"
   ]
  }
 ],
 "metadata": {
  "kernelspec": {
   "display_name": ".venv",
   "language": "python",
   "name": "python3"
  },
  "language_info": {
   "codemirror_mode": {
    "name": "ipython",
    "version": 3
   },
   "file_extension": ".py",
   "mimetype": "text/x-python",
   "name": "python",
   "nbconvert_exporter": "python",
   "pygments_lexer": "ipython3",
   "version": "3.10.12"
  }
 },
 "nbformat": 4,
 "nbformat_minor": 2
}
