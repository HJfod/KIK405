{
 "cells": [
  {
   "cell_type": "markdown",
   "metadata": {},
   "source": [
    "# jupyter is so silly"
   ]
  },
  {
   "cell_type": "code",
   "execution_count": 51,
   "metadata": {},
   "outputs": [],
   "source": [
    "# imports\n",
    "import nltk\n",
    "import glob\n",
    "import os\n",
    "from nltk.collocations import TrigramCollocationFinder, TrigramAssocMeasures\n",
    "from nltk.corpus import EuroparlCorpusReader\n",
    "from nltk.text import Text"
   ]
  },
  {
   "cell_type": "code",
   "execution_count": 2,
   "metadata": {},
   "outputs": [
    {
     "name": "stderr",
     "output_type": "stream",
     "text": [
      "[nltk_data] Downloading package punkt_tab to\n",
      "[nltk_data]     C:\\Users\\HJfod\\AppData\\Roaming\\nltk_data...\n",
      "[nltk_data]   Package punkt_tab is already up-to-date!\n"
     ]
    },
    {
     "data": {
      "text/plain": [
       "True"
      ]
     },
     "execution_count": 2,
     "metadata": {},
     "output_type": "execute_result"
    }
   ],
   "source": [
    "# nltk libraries\n",
    "nltk.download('punkt_tab')"
   ]
  },
  {
   "cell_type": "code",
   "execution_count": 20,
   "metadata": {},
   "outputs": [
    {
     "name": "stdout",
     "output_type": "stream",
     "text": [
      "files in shortened corpus: 48\n"
     ]
    }
   ],
   "source": [
    "europarl_short_files = list(map(lambda p: os.path.basename(p), glob.glob('./europarl/en/ep-00-0*-*.txt')))\n",
    "print(f\"files in shortened corpus: {len(europarl_short_files)}\")"
   ]
  },
  {
   "cell_type": "code",
   "execution_count": 19,
   "metadata": {},
   "outputs": [
    {
     "name": "stdout",
     "output_type": "stream",
     "text": [
      "length of whole corpus: 56968534, length of short corpus: 2675475\n"
     ]
    }
   ],
   "source": [
    "europarl_read = EuroparlCorpusReader('./europarl/en', '.*')\n",
    "europarl = Text(europarl_read.words())\n",
    "europarl_short = Text(europarl_read.words(europarl_short_files))\n",
    "print(f\"length of whole corpus: {len(europarl)}, length of shortened corpus: {len(europarl_short)}\")"
   ]
  },
  {
   "cell_type": "markdown",
   "metadata": {},
   "source": [
    "# now for the actual stuff"
   ]
  },
  {
   "cell_type": "code",
   "execution_count": 53,
   "metadata": {},
   "outputs": [],
   "source": [
    "# https://stackoverflow.com/questions/49197667/nltk-how-to-get-bigrams-containing-a-specific-word\n",
    "great_finder = TrigramCollocationFinder.from_documents([europarl_short])\n",
    "great_finder.apply_ngram_filter(lambda *ngram: 'great' not in ngram)\n",
    "\n",
    "large_finder = TrigramCollocationFinder.from_documents([europarl_short])\n",
    "large_finder.apply_ngram_filter(lambda *ngram: 'large' not in ngram)"
   ]
  },
  {
   "cell_type": "code",
   "execution_count": 87,
   "metadata": {},
   "outputs": [],
   "source": [
    "def print_table(header: str, list: list[(str, str, str)]):\n",
    "    print(f'== {header} {\"=\"*(33-4-len(header))}')\n",
    "    for (a, b, c) in list:\n",
    "        print(f'{a:<11} {b:<11} {c:<11}')\n",
    "    print('')"
   ]
  },
  {
   "cell_type": "code",
   "execution_count": 90,
   "metadata": {},
   "outputs": [
    {
     "name": "stdout",
     "output_type": "stream",
     "text": [
      "== uses of great ================\n",
      "a           great       deal       \n",
      "great       deal        of         \n",
      "is          a           great      \n",
      "a           great       many       \n",
      "of          the         great      \n",
      "great       deal        to         \n",
      "have        a           great      \n",
      "great       importance  to         \n",
      "is          of          great      \n",
      "a           very        great      \n",
      "be          a           great      \n",
      "with        great       interest   \n",
      "A           great       deal       \n",
      "great       deal        more       \n",
      "that        a           great      \n",
      "\n",
      "== uses of large ================\n",
      "large       number      of         \n",
      "a           large       number     \n",
      "to          a           large      \n",
      "a           large       majority   \n",
      "by          a           large      \n",
      "a           very        large      \n",
      "large       numbers     of         \n",
      "large       majority    of         \n",
      "large       part        of         \n",
      "a           large       extent     \n",
      "large       proportion  of         \n",
      "of          a           large      \n",
      "of          the         large      \n",
      "large       and         small      \n",
      "a           large       proportion \n",
      "\n"
     ]
    }
   ],
   "source": [
    "bigram_measures = TrigramAssocMeasures()\n",
    "print_table('uses of great', great_finder.nbest(bigram_measures.raw_freq, 15))\n",
    "print_table('uses of large', large_finder.nbest(bigram_measures.raw_freq, 15))"
   ]
  },
  {
   "cell_type": "code",
   "execution_count": 92,
   "metadata": {},
   "outputs": [
    {
     "name": "stdout",
     "output_type": "stream",
     "text": [
      "Displaying 25 of 333 matches:\n",
      "ent report, which I do not have a great deal to add to. I would like to take t\n",
      "ustified. I would also ask that a great deal more emphasis be placed on these \n",
      "the Member States, we can avoid a great deal of problems later on. <P> Finally\n",
      " upon. Our motion will give you a great deal of food for thought, Commissioner\n",
      "ntire European Parliament for the great deal of interest shown in competition-\n",
      "s another area where Europe has a great deal in common, for example where the \n",
      " the treaty texts submitted. So a great deal has to be done in this area. And \n",
      "means that, in any case, I have a great deal of respect for the briefing note \n",
      " speaker, is that it is easier, a great deal easier, to offer help to victims \n",
      ". <P> In the meantime, there is a great deal of money and, Mr Gollnisch, I can\n",
      "e Balkans and which has cost us a great deal more than we might have had to sp\n",
      "with reform, none of which have a great deal of substance to them. So far, no \n",
      "ort - on which she has lavished a great deal of hard work, and for which we ar\n",
      "The Commission' s records leave a great deal to be desired. We noticed this wh\n",
      "flow. Via the structural funds, a great deal of the European budget is being p\n",
      "tional parliaments, we may have a great deal of control, but it is inefficient\n",
      " Madam President, I do not have a great deal to add on this subject. The Counc\n",
      "mpracticable and will result in a great deal of bureaucracy and administration\n",
      "nt aid and cooperation, so that a great deal more money becomes available than\n",
      "ced into hard labour, have done a great deal to bolster this negative image. T\n",
      "ss to say, this accords science a great deal of power. We might ask ourselves,\n",
      "n made just now and that I have a great deal of sympathy for the unease which \n",
      "ow zero, these people are doing a great deal of work to ensure a minimum of ma\n",
      "Brok then we would certainly be a great deal further on. The Council' s failin\n",
      "at of all kinds of other areas. A great deal of money for culture is also set \n"
     ]
    }
   ],
   "source": [
    "europarl_short.concordance(['great', 'deal'])"
   ]
  }
 ],
 "metadata": {
  "kernelspec": {
   "display_name": "Python 3",
   "language": "python",
   "name": "python3"
  },
  "language_info": {
   "codemirror_mode": {
    "name": "ipython",
    "version": 3
   },
   "file_extension": ".py",
   "mimetype": "text/x-python",
   "name": "python",
   "nbconvert_exporter": "python",
   "pygments_lexer": "ipython3",
   "version": "3.9.1"
  }
 },
 "nbformat": 4,
 "nbformat_minor": 2
}
